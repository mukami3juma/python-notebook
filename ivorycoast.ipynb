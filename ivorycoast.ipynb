{
 "cells": [
  {
   "cell_type": "code",
   "execution_count": 1,
   "source": [
    "import numpy as np\r\n",
    "import pandas as pd"
   ],
   "outputs": [],
   "metadata": {}
  },
  {
   "cell_type": "code",
   "execution_count": null,
   "source": [
    "df1 = pd.read_csv(\"cells_geo.csv\")\r\n",
    "df2 = pd.read_excel(\"CDR_description.xlsx\")\r\n",
    "df3 = pd.read_excel(\"cells_geo_description.xlsx\")\r\n",
    "df4 = pd.read_url(\"http://bit.ly/TelecomDataset1\")\r\n",
    "df5 = pd.read_url(\"http://bit.ly/TelecomDataset2\")\r\n",
    "df6 = pd.read_url(\"http://bit.ly/TelecomDataset3\")"
   ],
   "outputs": [],
   "metadata": {}
  }
 ],
 "metadata": {
  "orig_nbformat": 4,
  "language_info": {
   "name": "python",
   "version": "3.9.6",
   "mimetype": "text/x-python",
   "codemirror_mode": {
    "name": "ipython",
    "version": 3
   },
   "pygments_lexer": "ipython3",
   "nbconvert_exporter": "python",
   "file_extension": ".py"
  },
  "kernelspec": {
   "name": "python3",
   "display_name": "Python 3.9.6 64-bit"
  },
  "interpreter": {
   "hash": "cf6663ca35ebd57d6121109460e534e72c1e1f8ff142ad985cdcb4b7e585eb79"
  }
 },
 "nbformat": 4,
 "nbformat_minor": 2
}